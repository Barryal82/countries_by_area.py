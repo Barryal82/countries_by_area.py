{
 "cells": [
  {
   "cell_type": "code",
   "execution_count": 1,
   "id": "d8ac0a41-234b-4814-bf7c-11b777834139",
   "metadata": {},
   "outputs": [
    {
     "name": "stdout",
     "output_type": "stream",
     "text": [
      "Requirement already satisfied: requests in /opt/anaconda3/lib/python3.12/site-packages (2.32.2)\n",
      "Requirement already satisfied: beautifulsoup4 in /opt/anaconda3/lib/python3.12/site-packages (4.12.3)\n",
      "Requirement already satisfied: pandas in /opt/anaconda3/lib/python3.12/site-packages (2.2.2)\n",
      "Requirement already satisfied: charset-normalizer<4,>=2 in /opt/anaconda3/lib/python3.12/site-packages (from requests) (2.0.4)\n",
      "Requirement already satisfied: idna<4,>=2.5 in /opt/anaconda3/lib/python3.12/site-packages (from requests) (3.7)\n",
      "Requirement already satisfied: urllib3<3,>=1.21.1 in /opt/anaconda3/lib/python3.12/site-packages (from requests) (2.2.2)\n",
      "Requirement already satisfied: certifi>=2017.4.17 in /opt/anaconda3/lib/python3.12/site-packages (from requests) (2024.8.30)\n",
      "Requirement already satisfied: soupsieve>1.2 in /opt/anaconda3/lib/python3.12/site-packages (from beautifulsoup4) (2.5)\n",
      "Requirement already satisfied: numpy>=1.26.0 in /opt/anaconda3/lib/python3.12/site-packages (from pandas) (1.26.4)\n",
      "Requirement already satisfied: python-dateutil>=2.8.2 in /opt/anaconda3/lib/python3.12/site-packages (from pandas) (2.9.0.post0)\n",
      "Requirement already satisfied: pytz>=2020.1 in /opt/anaconda3/lib/python3.12/site-packages (from pandas) (2024.1)\n",
      "Requirement already satisfied: tzdata>=2022.7 in /opt/anaconda3/lib/python3.12/site-packages (from pandas) (2023.3)\n",
      "Requirement already satisfied: six>=1.5 in /opt/anaconda3/lib/python3.12/site-packages (from python-dateutil>=2.8.2->pandas) (1.16.0)\n",
      "Note: you may need to restart the kernel to use updated packages.\n"
     ]
    }
   ],
   "source": [
    "pip install requests beautifulsoup4 pandas"
   ]
  },
  {
   "cell_type": "code",
   "execution_count": 25,
   "id": "dfda7630-2e45-489e-b714-034ed219074b",
   "metadata": {},
   "outputs": [
    {
     "name": "stdout",
     "output_type": "stream",
     "text": [
      "                          Country/Dependency           Total Area (km²)  \\\n",
      "0                                      Earth  510,072,000 (196,940,000)   \n",
      "1                                     Russia     17,098,246 (6,601,667)   \n",
      "2                                 Antarctica     14,200,000 (5,480,000)   \n",
      "3                                     Canada      9,984,670 (3,855,100)   \n",
      "4                                      China      9,596,960 (3,705,410)   \n",
      "..                                       ...                        ...   \n",
      "259  Ashmore and Cartier Islands (Australia)                  5.0 (1.9)   \n",
      "260            Coral Sea Islands (Australia)                  3.0 (1.2)   \n",
      "261               Spratly Islands (disputed)                 2.0 (0.77)   \n",
      "262                                   Monaco                 2.0 (0.77)   \n",
      "263                             Vatican City                0.49 (0.19)   \n",
      "\n",
      "              Land Area (km²)           Water Area (km²) % Water  \n",
      "0    148,940,000 (57,506,000)  361,132,000 (139,434,000)    70.8  \n",
      "1      16,376,870 (6,323,142)          721,380 (278,530)     4.2  \n",
      "2      14,200,000 (5,480,000)                          0       0  \n",
      "3       9,093,507 (3,511,021)          891,163 (344,080)     8.9  \n",
      "4       9,326,410 (3,600,950)          270,550 (104,460)     2.8  \n",
      "..                        ...                        ...     ...  \n",
      "259                 5.0 (1.9)                          0       0  \n",
      "260                 3.0 (1.2)                          0       0  \n",
      "261                2.0 (0.77)                          0       0  \n",
      "262                2.0 (0.77)                          0       0  \n",
      "263               0.49 (0.19)                          0       0  \n",
      "\n",
      "[264 rows x 5 columns]\n",
      "Data saved to 'countries_by_area.csv'\n"
     ]
    }
   ],
   "source": [
    "import requests\n",
    "from bs4 import BeautifulSoup\n",
    "import pandas as pd\n",
    "\n",
    "# Wikipedia page URL\n",
    "url = 'https://en.wikipedia.org/wiki/List_of_countries_and_dependencies_by_area'\n",
    "\n",
    "# Send a request to fetch the content of the page\n",
    "response = requests.get(url)\n",
    "\n",
    "# Check if the page was fetched successfully\n",
    "if response.status_code == 200:\n",
    "    # Parse the HTML content of the page\n",
    "    soup = BeautifulSoup(response.content, 'html.parser')\n",
    "\n",
    "    # Find all tables on the page\n",
    "    tables = soup.find_all('table')\n",
    "\n",
    "    # Loop through the tables and find the correct one\n",
    "    target_table = None\n",
    "    for table in tables:\n",
    "        # Check if the table has the right number of columns (6 in this case)\n",
    "        headers = table.find_all('th')\n",
    "        if len(headers) >= 6 and 'Country / dependency' in headers[1].text:\n",
    "            target_table = table\n",
    "            break\n",
    "\n",
    "    if target_table:  # Ensure the target table is found\n",
    "        # Initialize lists to store the data\n",
    "        countries = []\n",
    "        total_areas = []\n",
    "        land_areas = []\n",
    "        water_areas = []\n",
    "        water_percentage = []\n",
    "\n",
    "        # Loop through the rows of the table, skipping the header\n",
    "        for row in target_table.find_all('tr')[1:]:\n",
    "            cells = row.find_all('td')\n",
    "            if len(cells) >= 5:\n",
    "                countries.append(cells[1].text.strip())\n",
    "                total_areas.append(cells[2].text.strip())\n",
    "                land_areas.append(cells[3].text.strip())\n",
    "                water_areas.append(cells[4].text.strip())\n",
    "                water_percentage.append(cells[5].text.strip())\n",
    "\n",
    "        # Create a DataFrame from the scraped data\n",
    "        df = pd.DataFrame({\n",
    "            'Country/Dependency': countries,\n",
    "            'Total Area (km²)': total_areas,\n",
    "            'Land Area (km²)': land_areas,\n",
    "            'Water Area (km²)': water_areas,\n",
    "            '% Water': water_percentage\n",
    "        })\n",
    "\n",
    "        # Display the DataFrame\n",
    "        print(df)\n",
    "\n",
    "        # Optional: Save the DataFrame to a CSV file\n",
    "        df.to_csv('countries_by_area.csv', index=False)\n",
    "        print(\"Data saved to 'countries_by_area.csv'\")\n",
    "    else:\n",
    "        print(\"Target table not found on the page.\")\n",
    "else:\n",
    "    print(f\"Failed to retrieve the page. Status code: {response.status_code}\")\n"
   ]
  },
  {
   "cell_type": "code",
   "execution_count": 27,
   "id": "3a3bc556-14af-4c65-8918-88b3204d8c06",
   "metadata": {},
   "outputs": [
    {
     "name": "stdout",
     "output_type": "stream",
     "text": [
      "  Country/Dependency           Total Area (km²)           Land Area (km²)  \\\n",
      "0              Earth  510,072,000 (196,940,000)  148,940,000 (57,506,000)   \n",
      "1             Russia     17,098,246 (6,601,667)    16,376,870 (6,323,142)   \n",
      "2         Antarctica     14,200,000 (5,480,000)    14,200,000 (5,480,000)   \n",
      "3             Canada      9,984,670 (3,855,100)     9,093,507 (3,511,021)   \n",
      "4              China      9,596,960 (3,705,410)     9,326,410 (3,600,950)   \n",
      "\n",
      "            Water Area (km²) % Water  \n",
      "0  361,132,000 (139,434,000)    70.8  \n",
      "1          721,380 (278,530)     4.2  \n",
      "2                          0       0  \n",
      "3          891,163 (344,080)     8.9  \n",
      "4          270,550 (104,460)     2.8  \n"
     ]
    }
   ],
   "source": [
    "# Path to the CSV file\n",
    "file_path = '/Users/barry/Desktop/Python/countries_by_area.csv'\n",
    "\n",
    "# Load the CSV file into a DataFrame\n",
    "df = pd.read_csv(file_path)\n",
    "\n",
    "# Display the first few rows of the DataFrame to ensure it is loaded correctly\n",
    "print(df.head())\n"
   ]
  },
  {
   "cell_type": "code",
   "execution_count": 29,
   "id": "8b33f3c3-f4f8-4af9-8f3c-a335e92d47ae",
   "metadata": {},
   "outputs": [
    {
     "name": "stdout",
     "output_type": "stream",
     "text": [
      "Syria fits into Canada approximately 53.9187 times.\n"
     ]
    }
   ],
   "source": [
    "import pandas as pd\n",
    "import re\n",
    "\n",
    "# Function to clean the area string and extract only the numeric part (in km²)\n",
    "def clean_area(area_str):\n",
    "    # Ensure area_str is a string and not bytes\n",
    "    if isinstance(area_str, bytes):\n",
    "        area_str = area_str.decode(\"utf-8\")  # Decode bytes to string\n",
    "    \n",
    "    # Use regular expressions to extract the first number (before any parentheses)\n",
    "    match = re.search(r'[\\d,]+', area_str)\n",
    "    if match:\n",
    "        return float(match.group(0).replace(',', ''))  # Remove commas and convert to float\n",
    "    else:\n",
    "        return None  # Return None if no valid number is found\n",
    "\n",
    "# Define the function to calculate how many times one country fits into another\n",
    "def how_many_fits(country1, country2, df):\n",
    "    # Extract the area of the two countries\n",
    "    try:\n",
    "        area1_str = df.loc[df['Country/Dependency'] == country1, 'Total Area (km²)'].values[0]\n",
    "        area2_str = df.loc[df['Country/Dependency'] == country2, 'Total Area (km²)'].values[0]\n",
    "        \n",
    "        # Clean the area strings to extract the numeric part\n",
    "        area1 = clean_area(area1_str)\n",
    "        area2 = clean_area(area2_str)\n",
    "\n",
    "        # Check if both areas were successfully extracted\n",
    "        if area1 is None or area2 is None:\n",
    "            print(f\"Could not extract valid area for {country1} or {country2}.\")\n",
    "            return\n",
    "\n",
    "        # Calculate how many times country1 fits into country2\n",
    "        fit_ratio = area2 / area1\n",
    "\n",
    "        # Print the result\n",
    "        print(f\"{country1} fits into {country2} approximately {fit_ratio:.4f} times.\")\n",
    "    \n",
    "    except IndexError:\n",
    "        print(f\"One or both countries not found in the dataset.\")\n",
    "\n",
    "# Example usage: Calculate how many times \"Qatar\" fits into \"Canada\"\n",
    "how_many_fits(\"Syria\", \"Canada\", df)\n"
   ]
  },
  {
   "cell_type": "code",
   "execution_count": 31,
   "id": "d369b8b4-0439-4716-b819-d71ad86afa86",
   "metadata": {},
   "outputs": [
    {
     "data": {
      "application/vnd.jupyter.widget-view+json": {
       "model_id": "1c4b580c26e6449bb25ea13f9b8f57ff",
       "version_major": 2,
       "version_minor": 0
      },
      "text/plain": [
       "Dropdown(description='Country 1:', options=('9,525,067 (3,677,647)', 'Abkhazia', 'Afghanistan', 'Akrotiri and …"
      ]
     },
     "metadata": {},
     "output_type": "display_data"
    },
    {
     "data": {
      "application/vnd.jupyter.widget-view+json": {
       "model_id": "59bf3e28b6b6449da13afa28754b2852",
       "version_major": 2,
       "version_minor": 0
      },
      "text/plain": [
       "Dropdown(description='fits in Country 2:', options=('9,525,067 (3,677,647)', 'Abkhazia', 'Afghanistan', 'Akrot…"
      ]
     },
     "metadata": {},
     "output_type": "display_data"
    },
    {
     "data": {
      "application/vnd.jupyter.widget-view+json": {
       "model_id": "a98e81a3b3d14e40bdfa2ebc414394b2",
       "version_major": 2,
       "version_minor": 0
      },
      "text/plain": [
       "Button(description='Calculate', style=ButtonStyle())"
      ]
     },
     "metadata": {},
     "output_type": "display_data"
    },
    {
     "data": {
      "application/vnd.jupyter.widget-view+json": {
       "model_id": "f692a887872b407eac9371976f4dd8dd",
       "version_major": 2,
       "version_minor": 0
      },
      "text/plain": [
       "Output()"
      ]
     },
     "metadata": {},
     "output_type": "display_data"
    }
   ],
   "source": [
    "import pandas as pd\n",
    "import ipywidgets as widgets\n",
    "from IPython.display import display\n",
    "import re\n",
    "\n",
    "# Step 1: Load the dataset\n",
    "file_path = '/Users/barry/Desktop/Python/countries_by_area.csv'\n",
    "df = pd.read_csv(file_path)\n",
    "\n",
    "# Step 2: Clean the data by removing text inside parentheses and commas\n",
    "df['Total Area (km²)'] = df['Total Area (km²)'].apply(lambda x: re.sub(r'\\s*\\(.*?\\)', '', str(x)))  # Remove parentheses\n",
    "df['Total Area (km²)'] = df['Total Area (km²)'].str.replace(',', '').astype(float)  # Remove commas and convert to float\n",
    "\n",
    "# Step 3: Sort countries by name\n",
    "sorted_countries = sorted(df['Country/Dependency'].tolist())\n",
    "\n",
    "# Step 4: Create dropdown widgets for country selection\n",
    "country1_dropdown = widgets.Dropdown(\n",
    "    options=sorted_countries,\n",
    "    description='Country 1:',\n",
    "    style={'description_width': 'initial'}\n",
    ")\n",
    "\n",
    "country2_dropdown = widgets.Dropdown(\n",
    "    options=sorted_countries,\n",
    "    description='fits in Country 2:',\n",
    "    style={'description_width': 'initial'}\n",
    ")\n",
    "\n",
    "# Step 5: Define a function to calculate how many times country1 fits into country2\n",
    "def calculate_fits(country1, country2):\n",
    "    # Get the area of both countries\n",
    "    area1 = df.loc[df['Country/Dependency'] == country1, 'Total Area (km²)'].values[0]\n",
    "    area2 = df.loc[df['Country/Dependency'] == country2, 'Total Area (km²)'].values[0]\n",
    "\n",
    "    # Calculate how many times country1 fits into country2\n",
    "    fits = area2 / area1\n",
    "    print(f\"\\n{country1} fits into {country2} {fits:.5f} times.\")\n",
    "\n",
    "# Step 6: Create a button to trigger the calculation\n",
    "button = widgets.Button(description=\"Calculate\")\n",
    "output = widgets.Output()\n",
    "\n",
    "# Step 7: Define button click event handler\n",
    "def on_button_click(b):\n",
    "    with output:\n",
    "        output.clear_output()\n",
    "        calculate_fits(country1_dropdown.value, country2_dropdown.value)\n",
    "\n",
    "button.on_click(on_button_click)\n",
    "\n",
    "# Step 8: Display the dropdowns, button, and output\n",
    "display(country1_dropdown, country2_dropdown, button, output)\n"
   ]
  },
  {
   "cell_type": "code",
   "execution_count": null,
   "id": "2f18a476-9f45-4862-a524-f84ad1e64734",
   "metadata": {},
   "outputs": [],
   "source": []
  }
 ],
 "metadata": {
  "kernelspec": {
   "display_name": "Python 3 (ipykernel)",
   "language": "python",
   "name": "python3"
  },
  "language_info": {
   "codemirror_mode": {
    "name": "ipython",
    "version": 3
   },
   "file_extension": ".py",
   "mimetype": "text/x-python",
   "name": "python",
   "nbconvert_exporter": "python",
   "pygments_lexer": "ipython3",
   "version": "3.12.2"
  }
 },
 "nbformat": 4,
 "nbformat_minor": 5
}
